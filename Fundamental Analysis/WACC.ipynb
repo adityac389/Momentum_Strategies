{
 "cells": [
  {
   "cell_type": "code",
   "execution_count": 1,
   "id": "initial_id",
   "metadata": {
    "collapsed": true,
    "ExecuteTime": {
     "end_time": "2023-12-26T00:52:28.767075Z",
     "start_time": "2023-12-26T00:52:28.093990Z"
    }
   },
   "outputs": [],
   "source": [
    "# import packages\n",
    "import yfinance as yf\n",
    "import yahoo_fin.stock_info as si\n",
    "import numpy_financial as np\n",
    "from jproperties import Properties"
   ]
  },
  {
   "cell_type": "markdown",
   "source": [
    "Assumed Constants"
   ],
   "metadata": {
    "collapsed": false
   },
   "id": "fddcfd2f80479f15"
  },
  {
   "cell_type": "code",
   "execution_count": 2,
   "outputs": [
    {
     "name": "stdout",
     "output_type": "stream",
     "text": [
      "[*********************100%%**********************]  1 of 1 completed\n"
     ]
    }
   ],
   "source": [
    "TICKER = 'MSFT'\n",
    "\n",
    "SnP_data = yf.download(\"^GSPC\", period=\"10y\", interval=\"1d\")[\"Close\"]\n",
    "\n",
    "def calculate_cagr(initial_price, final_price, period):\n",
    "  cagr = ((final_price / initial_price) ** (1 / period)) - 1\n",
    "  return cagr\n",
    "\n",
    "initial_price = SnP_data.iloc[0]\n",
    "final_price = SnP_data.iloc[-1]\n",
    "SnP_10Y_RETURN = calculate_cagr(initial_price, final_price, 10)\n",
    "\n",
    "BOND_TICKER = '^TNX'\n"
   ],
   "metadata": {
    "collapsed": false,
    "ExecuteTime": {
     "end_time": "2023-12-26T00:52:29.868800Z",
     "start_time": "2023-12-26T00:52:28.770376Z"
    }
   },
   "id": "c25232481cdb722d"
  },
  {
   "cell_type": "markdown",
   "source": [
    "Read Ticker Data"
   ],
   "metadata": {
    "collapsed": false
   },
   "id": "7286006c3bb408f1"
  },
  {
   "cell_type": "code",
   "execution_count": 3,
   "outputs": [],
   "source": [
    "ticker = yf.Ticker(TICKER)\n",
    "tnx = yf.Ticker(BOND_TICKER)\n",
    "\n",
    "income_stmt_df = ticker.income_stmt\n",
    "balance_sheet_df=ticker.balance_sheet"
   ],
   "metadata": {
    "collapsed": false,
    "ExecuteTime": {
     "end_time": "2023-12-26T00:52:30.391652Z",
     "start_time": "2023-12-26T00:52:29.873567Z"
    }
   },
   "id": "9d608c70d5b512e6"
  },
  {
   "cell_type": "markdown",
   "source": [
    "Return the latest non Nan Value"
   ],
   "metadata": {
    "collapsed": false
   },
   "id": "b6b3f2fb7f92f054"
  },
  {
   "cell_type": "code",
   "execution_count": 4,
   "outputs": [],
   "source": [
    "def get_latest_non_nan(series):\n",
    "    first_non_nan_index = series.first_valid_index()\n",
    "    return series[first_non_nan_index]"
   ],
   "metadata": {
    "collapsed": false,
    "ExecuteTime": {
     "end_time": "2023-12-26T00:52:30.398467Z",
     "start_time": "2023-12-26T00:52:30.392986Z"
    }
   },
   "id": "8b5a9b2b159c3b67"
  },
  {
   "cell_type": "markdown",
   "source": [
    "Cost of Debt Calculation"
   ],
   "metadata": {
    "collapsed": false
   },
   "id": "72defe87ec8e4d04"
  },
  {
   "cell_type": "code",
   "execution_count": 5,
   "outputs": [
    {
     "data": {
      "text/plain": "0.03375533279028093"
     },
     "execution_count": 5,
     "metadata": {},
     "output_type": "execute_result"
    }
   ],
   "source": [
    "interest_expense = get_latest_non_nan(income_stmt_df.loc['Interest Expense'])\n",
    "income_tax = get_latest_non_nan(income_stmt_df.loc['Tax Provision'])\n",
    "income_before_tax = get_latest_non_nan(income_stmt_df.loc['Pretax Income'])\n",
    "current_debt = get_latest_non_nan(balance_sheet_df.loc['Current Debt'])\n",
    "long_term_debt = get_latest_non_nan(balance_sheet_df.loc['Long Term Debt'])\n",
    "cost_of_debt = interest_expense / (current_debt + long_term_debt)\n",
    "effective_tax_rate = income_tax / income_before_tax\n",
    "cost_of_debt_after_tax = cost_of_debt * (1-effective_tax_rate)\n",
    "cost_of_debt_after_tax"
   ],
   "metadata": {
    "collapsed": false,
    "ExecuteTime": {
     "end_time": "2023-12-26T00:52:30.413162Z",
     "start_time": "2023-12-26T00:52:30.397097Z"
    }
   },
   "id": "c208eff391a03066"
  },
  {
   "cell_type": "markdown",
   "source": [
    "Cost of Equity Calculation"
   ],
   "metadata": {
    "collapsed": false
   },
   "id": "6a62237927c03560"
  },
  {
   "cell_type": "code",
   "execution_count": 6,
   "outputs": [
    {
     "data": {
      "text/plain": "0.09399435042137105"
     },
     "execution_count": 6,
     "metadata": {},
     "output_type": "execute_result"
    }
   ],
   "source": [
    "risk_free_rate = tnx.info['regularMarketDayHigh']/100\n",
    "beta = ticker.info['beta']\n",
    "cost_of_equity = risk_free_rate + (beta * (SnP_10Y_RETURN - risk_free_rate))\n",
    "cost_of_equity"
   ],
   "metadata": {
    "collapsed": false,
    "ExecuteTime": {
     "end_time": "2023-12-26T00:52:30.880085Z",
     "start_time": "2023-12-26T00:52:30.411775Z"
    }
   },
   "id": "f925c2dabcd63d5a"
  },
  {
   "cell_type": "markdown",
   "source": [
    "Weight of Debt and Equity"
   ],
   "metadata": {
    "collapsed": false
   },
   "id": "2a37be681d7615ef"
  },
  {
   "cell_type": "code",
   "execution_count": 7,
   "outputs": [],
   "source": [
    "total_debt = current_debt + long_term_debt\n",
    "market_cap = ticker.info['marketCap']\n",
    "total= total_debt + market_cap\n",
    "\n",
    "weight_of_debt = total_debt / total\n",
    "weight_of_equity = market_cap / total"
   ],
   "metadata": {
    "collapsed": false,
    "ExecuteTime": {
     "end_time": "2023-12-26T00:52:30.882808Z",
     "start_time": "2023-12-26T00:52:30.877562Z"
    }
   },
   "id": "f9c39d07b8de908d"
  },
  {
   "cell_type": "markdown",
   "source": [
    "WACC Calculation"
   ],
   "metadata": {
    "collapsed": false
   },
   "id": "b76a3b87f7946f4"
  },
  {
   "cell_type": "code",
   "execution_count": 8,
   "outputs": [
    {
     "data": {
      "text/plain": "'9.30% for ticker: MSFT'"
     },
     "execution_count": 8,
     "metadata": {},
     "output_type": "execute_result"
    }
   ],
   "source": [
    "wacc = (weight_of_debt * cost_of_debt_after_tax) + (weight_of_equity * cost_of_equity)\n",
    "'{:.2%}'.format(round(wacc,4)) + ' for ticker: ' + TICKER"
   ],
   "metadata": {
    "collapsed": false,
    "ExecuteTime": {
     "end_time": "2023-12-26T00:52:30.889635Z",
     "start_time": "2023-12-26T00:52:30.883107Z"
    }
   },
   "id": "5246409e304ec57e"
  }
 ],
 "metadata": {
  "kernelspec": {
   "display_name": "Python 3",
   "language": "python",
   "name": "python3"
  },
  "language_info": {
   "codemirror_mode": {
    "name": "ipython",
    "version": 2
   },
   "file_extension": ".py",
   "mimetype": "text/x-python",
   "name": "python",
   "nbconvert_exporter": "python",
   "pygments_lexer": "ipython2",
   "version": "2.7.6"
  }
 },
 "nbformat": 4,
 "nbformat_minor": 5
}
