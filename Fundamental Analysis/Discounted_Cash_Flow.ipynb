{
 "cells": [
  {
   "cell_type": "code",
   "execution_count": 1,
   "id": "initial_id",
   "metadata": {
    "collapsed": true,
    "ExecuteTime": {
     "end_time": "2023-12-23T18:56:26.540488Z",
     "start_time": "2023-12-23T18:56:25.227595Z"
    }
   },
   "outputs": [],
   "source": [
    "# import packages\n",
    "import yfinance as yf\n",
    "import yahoo_fin.stock_info as si\n",
    "import numpy_financial as np\n",
    "from jproperties import Properties"
   ]
  },
  {
   "cell_type": "markdown",
   "source": [
    "Assumed Constants"
   ],
   "metadata": {
    "collapsed": false
   },
   "id": "fddcfd2f80479f15"
  },
  {
   "cell_type": "code",
   "execution_count": 7,
   "outputs": [
    {
     "name": "stdout",
     "output_type": "stream",
     "text": [
      "[*********************100%%**********************]  1 of 1 completed\n"
     ]
    },
    {
     "data": {
      "text/plain": "0.10030804975180718"
     },
     "execution_count": 7,
     "metadata": {},
     "output_type": "execute_result"
    }
   ],
   "source": [
    "TICKER = 'MSFT'\n",
    "\n",
    "stock_data = yf.download(\"^GSPC\", period=\"10y\", interval=\"1d\")[\"Close\"]\n",
    "\n",
    "def calculate_cagr(initial_price, final_price, period):\n",
    "  cagr = ((final_price / initial_price) ** (1 / period)) - 1\n",
    "  return cagr\n",
    "\n",
    "initial_price = stock_data.iloc[0]\n",
    "final_price = stock_data.iloc[-1]\n",
    "PERP_GROWTH_RATE = calculate_cagr(initial_price, final_price, 10) # the return rate for what we are project in the future\n",
    "\n",
    "WACC_RATE = 0.093 # From WACC ipnyb\n",
    "\n",
    "PROJECTION_YEARS = 10\n",
    "PERP_GROWTH_RATE"
   ],
   "metadata": {
    "collapsed": false,
    "ExecuteTime": {
     "end_time": "2023-12-26T01:06:10.566354Z",
     "start_time": "2023-12-26T01:06:10.299917Z"
    }
   },
   "id": "c25232481cdb722d"
  },
  {
   "cell_type": "markdown",
   "source": [
    "Get Growth Rates"
   ],
   "metadata": {
    "collapsed": false
   },
   "id": "7286006c3bb408f1"
  },
  {
   "cell_type": "code",
   "execution_count": 5,
   "outputs": [
    {
     "data": {
      "text/plain": "0.0614"
     },
     "execution_count": 5,
     "metadata": {},
     "output_type": "execute_result"
    }
   ],
   "source": [
    "growth_est_df = si.get_analysts_info(TICKER)['Growth Estimates']\n",
    "growth_str = growth_est_df[growth_est_df['Growth Estimates'] == 'Next 5 Years (per annum)'][TICKER].iloc[0]\n",
    "growth_rate = round(float(growth_str.rstrip('%')) / 100.0, 4)\n",
    "growth_rate"
   ],
   "metadata": {
    "collapsed": false,
    "ExecuteTime": {
     "end_time": "2023-12-23T19:03:56.231680Z",
     "start_time": "2023-12-23T19:03:54.886667Z"
    }
   },
   "id": "9d608c70d5b512e6"
  },
  {
   "cell_type": "code",
   "execution_count": null,
   "outputs": [],
   "source": [],
   "metadata": {
    "collapsed": false
   },
   "id": "c208eff391a03066"
  }
 ],
 "metadata": {
  "kernelspec": {
   "display_name": "Python 3",
   "language": "python",
   "name": "python3"
  },
  "language_info": {
   "codemirror_mode": {
    "name": "ipython",
    "version": 2
   },
   "file_extension": ".py",
   "mimetype": "text/x-python",
   "name": "python",
   "nbconvert_exporter": "python",
   "pygments_lexer": "ipython2",
   "version": "2.7.6"
  }
 },
 "nbformat": 4,
 "nbformat_minor": 5
}
